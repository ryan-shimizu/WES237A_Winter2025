{
 "cells": [
  {
   "cell_type": "code",
   "execution_count": 1,
   "metadata": {},
   "outputs": [
    {
     "data": {
      "application/javascript": "\ntry {\nrequire(['notebook/js/codecell'], function(codecell) {\n  codecell.CodeCell.options_default.highlight_modes[\n      'magic_text/x-csrc'] = {'reg':[/^%%microblaze/]};\n  Jupyter.notebook.events.one('kernel_ready.Kernel', function(){\n      Jupyter.notebook.get_cells().map(function(cell){\n          if (cell.cell_type == 'code'){ cell.auto_highlight(); } }) ;\n  });\n});\n} catch (e) {};\n"
     },
     "metadata": {},
     "output_type": "display_data"
    },
    {
     "data": {
      "application/javascript": "\ntry {\nrequire(['notebook/js/codecell'], function(codecell) {\n  codecell.CodeCell.options_default.highlight_modes[\n      'magic_text/x-csrc'] = {'reg':[/^%%pybind11/]};\n  Jupyter.notebook.events.one('kernel_ready.Kernel', function(){\n      Jupyter.notebook.get_cells().map(function(cell){\n          if (cell.cell_type == 'code'){ cell.auto_highlight(); } }) ;\n  });\n});\n} catch (e) {};\n"
     },
     "metadata": {},
     "output_type": "display_data"
    }
   ],
   "source": [
    "import socket\n",
    "import multiprocessing\n",
    "import time\n",
    "from pynq.overlays.base import BaseOverlay\n",
    "base = BaseOverlay(\"base.bit\")"
   ]
  },
  {
   "cell_type": "code",
   "execution_count": 2,
   "metadata": {},
   "outputs": [],
   "source": [
    "%%microblaze base.PMODB\n",
    "\n",
    "#include \"gpio.h\"\n",
    "#include \"pyprintf.h\"\n",
    "\n",
    "//Function to turn on/off a selected pin of PMODB\n",
    "unsigned int write_gpio(unsigned int pin, unsigned int val){\n",
    "    if (val > 1){\n",
    "        pyprintf(\"pin value must be 0 or 1\");\n",
    "    }\n",
    "    else {\n",
    "        gpio pin_out = gpio_open(pin);\n",
    "        gpio_set_direction(pin_out, GPIO_OUT);\n",
    "        gpio_write(pin_out, val);\n",
    "    }\n",
    "    return 0;\n",
    "}\n",
    "\n",
    "//Function to read the value of a selected pin of PMODB\n",
    "unsigned int read_gpio(unsigned int pin){\n",
    "    gpio pin_in = gpio_open(pin);\n",
    "    gpio_set_direction(pin_in, GPIO_IN);\n",
    "    return gpio_read(pin_in);\n",
    "}"
   ]
  },
  {
   "cell_type": "markdown",
   "metadata": {},
   "source": [
    "\n",
    "# Server code"
   ]
  },
  {
   "cell_type": "code",
   "execution_count": null,
   "metadata": {},
   "outputs": [
    {
     "name": "stdout",
     "output_type": "stream",
     "text": [
      "SERVER: Waiting for connection from client...\n",
      "CLIENT: Attempting to connect to host...\n",
      "CLIENT: Connected to host.\n",
      "CLIENT: Sending buzz to host...\n",
      "CLIENT: Sending buzz to host...\n",
      "CLIENT: Sending buzz to host...\n",
      "SERVER: Connected to client.\n",
      "SERVER: Received messsage 1 from client.\n",
      "Bzzz!\n",
      "SERVER: Received messsage 2 from client.\n",
      "SERVER: Connection closed.\n",
      "SERVER: Waiting for connection from client...\n",
      "SERVER: Connected to client.\n",
      "SERVER: Received messsage 1 from client.\n",
      "Bzzz!\n",
      "SERVER: Received messsage 2 from client.\n",
      "SERVER: Connection closed.\n",
      "SERVER: Waiting for connection from client...\n",
      "SERVER: Connected to client.\n",
      "SERVER: Received messsage 1 from client.\n",
      "Bzzz!\n",
      "SERVER: Received messsage 2 from client.\n",
      "SERVER: Connection closed.\n",
      "SERVER: Waiting for connection from client...\n",
      "CLIENT: Sending kill to host...\n",
      "Connection closed.\n"
     ]
    },
    {
     "name": "stderr",
     "output_type": "stream",
     "text": [
      "Process server:\n",
      "Process client:\n",
      "Traceback (most recent call last):\n",
      "Traceback (most recent call last):\n",
      "  File \"/usr/lib/python3.10/multiprocessing/process.py\", line 315, in _bootstrap\n",
      "    self.run()\n",
      "  File \"/usr/lib/python3.10/multiprocessing/process.py\", line 315, in _bootstrap\n",
      "    self.run()\n",
      "  File \"/usr/lib/python3.10/multiprocessing/process.py\", line 108, in run\n",
      "    self._target(*self._args, **self._kwargs)\n",
      "  File \"/usr/lib/python3.10/multiprocessing/process.py\", line 108, in run\n",
      "    self._target(*self._args, **self._kwargs)\n",
      "  File \"/tmp/ipykernel_1277/446076456.py\", line 20, in run_server\n",
      "    conn, addr = sock_l.accept()\n",
      "  File \"/tmp/ipykernel_1277/446076456.py\", line 36, in run_client\n",
      "    if base.buttons[2].read() != 0:\n",
      "  File \"/usr/lib/python3.10/socket.py\", line 293, in accept\n",
      "    fd, addr = self._accept()\n",
      "  File \"/usr/local/share/pynq-venv/lib/python3.10/site-packages/pynq/lib/axigpio.py\", line 49, in read\n",
      "    return (self._parent.read() >> self._start) & self._mask\n",
      "KeyboardInterrupt\n",
      "  File \"/usr/local/share/pynq-venv/lib/python3.10/site-packages/pynq/lib/axigpio.py\", line 212, in read\n",
      "    if self.slicetype == AxiGPIO.Output:\n",
      "KeyboardInterrupt\n"
     ]
    },
    {
     "ename": "KeyboardInterrupt",
     "evalue": "",
     "output_type": "error",
     "traceback": [
      "\u001b[0;31m---------------------------------------------------------------------------\u001b[0m",
      "\u001b[0;31mKeyboardInterrupt\u001b[0m                         Traceback (most recent call last)",
      "Input \u001b[0;32mIn [3]\u001b[0m, in \u001b[0;36m<cell line: 69>\u001b[0;34m()\u001b[0m\n\u001b[1;32m     67\u001b[0m p1\u001b[38;5;241m.\u001b[39mstart()\n\u001b[1;32m     68\u001b[0m p2\u001b[38;5;241m.\u001b[39mstart()\n\u001b[0;32m---> 69\u001b[0m \u001b[38;5;28;01mwhile\u001b[39;00m(\u001b[38;5;28;01mTrue\u001b[39;00m):\n\u001b[1;32m     70\u001b[0m     \u001b[38;5;28;01mpass\u001b[39;00m\n",
      "\u001b[0;31mKeyboardInterrupt\u001b[0m: "
     ]
    }
   ],
   "source": [
    "SELF_ADDR = '192.168.0.102'\n",
    "SELF_PORT = 65432\n",
    "EXT_ADDR  = \"192.168.0.100\"\n",
    "EXT_PORT  = 65432\n",
    "BUF_SIZE = 1024\n",
    "\n",
    "BUZZ_DURATION = 0.5\n",
    "BUZZ_PERIOD = 0.01\n",
    "BUZZ_DUTY_CYCLE = 0.5\n",
    "BUZZ_DUTY_RATIO = BUZZ_DUTY_CYCLE * BUZZ_PERIOD\n",
    "\n",
    "\n",
    "\n",
    "def run_server():\n",
    "    while True:\n",
    "        sock_l = socket.socket(socket.AF_INET, socket.SOCK_STREAM)\n",
    "        sock_l.bind((SELF_ADDR, SELF_PORT))\n",
    "        sock_l.listen()\n",
    "        print('SERVER: Waiting for connection from client...')\n",
    "        conn, addr = sock_l.accept()\n",
    "        print('SERVER: Connected to client.')\n",
    "        with conn:\n",
    "            while True:\n",
    "                data = conn.recv(BUF_SIZE)\n",
    "                decodeData = data.decode()\n",
    "                print(f\"SERVER: Received messsage {decodeData} from client.\")\n",
    "                if (decodeData == \"1\"):\n",
    "                    soundBuzzer()\n",
    "                elif (decodeData == \"2\"):\n",
    "                    break\n",
    "        print(\"SERVER: Connection closed.\")\n",
    "        time.sleep(3)\n",
    "\n",
    "def run_client():\n",
    "    while True:\n",
    "        if base.buttons[2].read() != 0:\n",
    "            print(\"CLIENT: Attempting to connect to host...\")\n",
    "            with socket.socket(socket.AF_INET, socket.SOCK_STREAM) as sock:\n",
    "                sock.connect((EXT_ADDR, EXT_PORT))\n",
    "                print(\"CLIENT: Connected to host.\")\n",
    "                while  True:\n",
    "                    if base.buttons[0].read() != 0:\n",
    "                        print(\"CLIENT: Sending kill to host...\")\n",
    "                        sock.sendall(b\"2\")\n",
    "                        time.sleep(0.5)\n",
    "                        break\n",
    "                    if base.buttons[1].read() != 0:\n",
    "                        print(\"CLIENT: Sending buzz to host...\")\n",
    "                        sock.sendall(b\"1\")\n",
    "                        time.sleep(0.5)\n",
    "            print(\"Connection closed.\")\n",
    "            time.sleep(4)\n",
    "\n",
    "def soundBuzzer():\n",
    "    print(\"Bzzz!\")\n",
    "    sleepLoops = int(BUZZ_DURATION / BUZZ_PERIOD)\n",
    "    for i in range(sleepLoops):\n",
    "        write_gpio(3,1)\n",
    "        time.sleep(BUZZ_DUTY_RATIO)\n",
    "        write_gpio(3,0)\n",
    "        time.sleep(BUZZ_PERIOD-BUZZ_DUTY_RATIO)\n",
    "\n",
    "\n",
    "p1 = multiprocessing.Process(target=run_server, name=\"server\")\n",
    "p2 = multiprocessing.Process(target=run_client, name=\"client\")\n",
    "\n",
    "p1.start()\n",
    "p2.start()\n",
    "while(True):\n",
    "    pass\n"
   ]
  },
  {
   "cell_type": "markdown",
   "metadata": {},
   "source": [
    "# Client code"
   ]
  },
  {
   "cell_type": "code",
   "execution_count": null,
   "metadata": {},
   "outputs": [],
   "source": []
  },
  {
   "cell_type": "markdown",
   "metadata": {},
   "source": [
    "# Combined multiprocess"
   ]
  },
  {
   "cell_type": "code",
   "execution_count": null,
   "metadata": {},
   "outputs": [],
   "source": []
  }
 ],
 "metadata": {
  "kernelspec": {
   "display_name": "Python 3 (ipykernel)",
   "language": "python",
   "name": "python3"
  },
  "language_info": {
   "codemirror_mode": {
    "name": "ipython",
    "version": 3
   },
   "file_extension": ".py",
   "mimetype": "text/x-python",
   "name": "python",
   "nbconvert_exporter": "python",
   "pygments_lexer": "ipython3",
   "version": "3.10.4"
  }
 },
 "nbformat": 4,
 "nbformat_minor": 2
}
