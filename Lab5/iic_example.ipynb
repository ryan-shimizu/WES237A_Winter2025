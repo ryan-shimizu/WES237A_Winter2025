{
 "cells": [
  {
   "cell_type": "markdown",
   "metadata": {
    "id": "Fs5TR4iibJE6"
   },
   "source": [
    "# Using PYNQ library for PMOD_ADC\n",
    "\n",
    "This just uses the built in Pmod_ADC library to read the value on the PMOD_AD2 peripheral."
   ]
  },
  {
   "cell_type": "code",
   "execution_count": 1,
   "metadata": {
    "id": "xjDlpBuobJE-"
   },
   "outputs": [
    {
     "data": {
      "application/javascript": [
       "\n",
       "try {\n",
       "require(['notebook/js/codecell'], function(codecell) {\n",
       "  codecell.CodeCell.options_default.highlight_modes[\n",
       "      'magic_text/x-csrc'] = {'reg':[/^%%microblaze/]};\n",
       "  Jupyter.notebook.events.one('kernel_ready.Kernel', function(){\n",
       "      Jupyter.notebook.get_cells().map(function(cell){\n",
       "          if (cell.cell_type == 'code'){ cell.auto_highlight(); } }) ;\n",
       "  });\n",
       "});\n",
       "} catch (e) {};\n"
      ]
     },
     "metadata": {},
     "output_type": "display_data"
    },
    {
     "data": {
      "application/javascript": [
       "\n",
       "try {\n",
       "require(['notebook/js/codecell'], function(codecell) {\n",
       "  codecell.CodeCell.options_default.highlight_modes[\n",
       "      'magic_text/x-csrc'] = {'reg':[/^%%pybind11/]};\n",
       "  Jupyter.notebook.events.one('kernel_ready.Kernel', function(){\n",
       "      Jupyter.notebook.get_cells().map(function(cell){\n",
       "          if (cell.cell_type == 'code'){ cell.auto_highlight(); } }) ;\n",
       "  });\n",
       "});\n",
       "} catch (e) {};\n"
      ]
     },
     "metadata": {},
     "output_type": "display_data"
    }
   ],
   "source": [
    "from pynq.overlays.base import BaseOverlay\n",
    "from pynq.lib import Pmod_ADC\n",
    "base = BaseOverlay(\"base.bit\")"
   ]
  },
  {
   "cell_type": "code",
   "execution_count": 2,
   "metadata": {
    "id": "4UMzOxCBbJE_"
   },
   "outputs": [],
   "source": [
    "adc = Pmod_ADC(base.PMODA)"
   ]
  },
  {
   "cell_type": "markdown",
   "metadata": {
    "id": "hPqHRI81bJE_"
   },
   "source": [
    "Read the raw value and the 12 bit values from channel 1.\n",
    "\n",
    "Refer to docs: https://pynq.readthedocs.io/en/v2.1/pynq_package/pynq.lib/pynq.lib.pmod.html#pynq-lib-pmod"
   ]
  },
  {
   "cell_type": "code",
   "execution_count": 3,
   "metadata": {
    "id": "ZUPuwo0bbJFA"
   },
   "outputs": [
    {
     "data": {
      "text/plain": [
       "[1]"
      ]
     },
     "execution_count": 3,
     "metadata": {},
     "output_type": "execute_result"
    }
   ],
   "source": [
    "adc.read_raw(ch1=1, ch2=0, ch3=0)"
   ]
  },
  {
   "cell_type": "code",
   "execution_count": 4,
   "metadata": {
    "id": "f4KtefkVbJFA"
   },
   "outputs": [
    {
     "data": {
      "text/plain": [
       "[0.0005]"
      ]
     },
     "execution_count": 4,
     "metadata": {},
     "output_type": "execute_result"
    }
   ],
   "source": [
    "adc.read(ch1=1, ch2=0, ch3=0)"
   ]
  },
  {
   "cell_type": "markdown",
   "metadata": {
    "id": "HcIGxRCDbJFA"
   },
   "source": [
    "# Using MicroblazeLibrary\n",
    "\n",
    "Here we're going down a level and using the microblaze library to write I2C commands directly to the PMOD_AD2 peripheral\n",
    "\n",
    "Use the documentation on the PMOD_AD2 to answer lab questions"
   ]
  },
  {
   "cell_type": "code",
   "execution_count": 5,
   "metadata": {
    "id": "SGWzJ5N6bJFB"
   },
   "outputs": [],
   "source": [
    "from pynq.overlays.base import BaseOverlay\n",
    "from pynq.lib import MicroblazeLibrary\n",
    "base = BaseOverlay(\"base.bit\")"
   ]
  },
  {
   "cell_type": "code",
   "execution_count": 6,
   "metadata": {
    "id": "i0zwGg1abJFB"
   },
   "outputs": [],
   "source": [
    "liba = MicroblazeLibrary(base.PMODA, ['i2c'])"
   ]
  },
  {
   "cell_type": "code",
   "execution_count": 7,
   "metadata": {
    "id": "AAkHZw_QbJFB"
   },
   "outputs": [
    {
     "data": {
      "text/plain": [
       "['__class__',\n",
       " '__delattr__',\n",
       " '__dict__',\n",
       " '__dir__',\n",
       " '__doc__',\n",
       " '__eq__',\n",
       " '__format__',\n",
       " '__ge__',\n",
       " '__getattribute__',\n",
       " '__gt__',\n",
       " '__hash__',\n",
       " '__init__',\n",
       " '__init_subclass__',\n",
       " '__le__',\n",
       " '__lt__',\n",
       " '__module__',\n",
       " '__ne__',\n",
       " '__new__',\n",
       " '__reduce__',\n",
       " '__reduce_ex__',\n",
       " '__repr__',\n",
       " '__setattr__',\n",
       " '__sizeof__',\n",
       " '__str__',\n",
       " '__subclasshook__',\n",
       " '__weakref__',\n",
       " '_build_constants',\n",
       " '_build_functions',\n",
       " '_mb',\n",
       " '_populate_typedefs',\n",
       " '_rpc_stream',\n",
       " 'active_functions',\n",
       " 'i2c_close',\n",
       " 'i2c_get_num_devices',\n",
       " 'i2c_open',\n",
       " 'i2c_open_device',\n",
       " 'i2c_read',\n",
       " 'i2c_write',\n",
       " 'release',\n",
       " 'reset',\n",
       " 'visitor']"
      ]
     },
     "execution_count": 7,
     "metadata": {},
     "output_type": "execute_result"
    }
   ],
   "source": [
    "dir(liba) # list the available commands for the liba object"
   ]
  },
  {
   "cell_type": "markdown",
   "metadata": {
    "id": "2nXUx1L_bJFB"
   },
   "source": [
    "In the cell below, open a new i2c device. Check the resources for the i2c_open parameters"
   ]
  },
  {
   "cell_type": "code",
   "execution_count": 9,
   "metadata": {
    "id": "G1739qZebJFB"
   },
   "outputs": [],
   "source": [
    "device = liba.i2c_open(3,2) # TODO open a device"
   ]
  },
  {
   "cell_type": "code",
   "execution_count": 10,
   "metadata": {
    "id": "Vnmp6VzDbJFC"
   },
   "outputs": [
    {
     "data": {
      "text/plain": [
       "['__class__',\n",
       " '__delattr__',\n",
       " '__dict__',\n",
       " '__dir__',\n",
       " '__doc__',\n",
       " '__eq__',\n",
       " '__format__',\n",
       " '__ge__',\n",
       " '__getattribute__',\n",
       " '__gt__',\n",
       " '__hash__',\n",
       " '__index__',\n",
       " '__init__',\n",
       " '__init_subclass__',\n",
       " '__int__',\n",
       " '__le__',\n",
       " '__lt__',\n",
       " '__module__',\n",
       " '__ne__',\n",
       " '__new__',\n",
       " '__reduce__',\n",
       " '__reduce_ex__',\n",
       " '__repr__',\n",
       " '__setattr__',\n",
       " '__sizeof__',\n",
       " '__str__',\n",
       " '__subclasshook__',\n",
       " '__weakref__',\n",
       " '_call_func',\n",
       " '_file',\n",
       " '_val',\n",
       " 'close',\n",
       " 'read',\n",
       " 'write']"
      ]
     },
     "execution_count": 10,
     "metadata": {},
     "output_type": "execute_result"
    }
   ],
   "source": [
    "dir(device) # list the commands for the device class"
   ]
  },
  {
   "cell_type": "markdown",
   "metadata": {
    "id": "VuiNLUXfbJFC"
   },
   "source": [
    "Below we write a command to the I2C channel and then read from the I2C channel. Change the buf[0] value to select different channels. See the AD spec sheet Configuration Register. https://www.analog.com/media/en/technical-documentation/data-sheets/AD7991_7995_7999.pdf\n",
    "\n",
    "Changing the number of channels to read from will require a 2 byte read for each channel!"
   ]
  },
  {
   "cell_type": "code",
   "execution_count": 11,
   "metadata": {
    "id": "NkTblJ1obJFC"
   },
   "outputs": [
    {
     "name": "stdout",
     "output_type": "stream",
     "text": [
      "0b0000000100000101\n"
     ]
    }
   ],
   "source": [
    "buf = bytearray(2)\n",
    "buf[0] = int('00000000', 2)\n",
    "device.write(0x28, buf, 1)\n",
    "device.read(0x28, buf, 2)\n",
    "print(format(int(((buf[0] << 8) | buf[1])), '#018b'))"
   ]
  },
  {
   "cell_type": "markdown",
   "metadata": {
    "id": "e18BrrVSbJFC"
   },
   "source": [
    "Compare the binary output given by ((buf[0]<<8) | buf[1]) to the AD7991 spec sheet. You can select the data only using the following command"
   ]
  },
  {
   "cell_type": "code",
   "execution_count": 12,
   "metadata": {
    "id": "s3wcNQTybJFC"
   },
   "outputs": [],
   "source": [
    "result_12bit = (((buf[0] & 0x0F) << 8) | buf[1])"
   ]
  },
  {
   "cell_type": "markdown",
   "metadata": {
    "id": "FPDa1IiSbJFD"
   },
   "source": [
    "# Using MicroBlaze"
   ]
  },
  {
   "cell_type": "code",
   "execution_count": 13,
   "metadata": {
    "id": "2JvyY5QmbJFD"
   },
   "outputs": [],
   "source": [
    "base = BaseOverlay(\"base.bit\")"
   ]
  },
  {
   "cell_type": "code",
   "execution_count": 16,
   "metadata": {
    "id": "pLrRT0eobJFD"
   },
   "outputs": [],
   "source": [
    "%%microblaze base.PMODA\n",
    "\n",
    "#include \"i2c.h\"\n",
    "\n",
    "int read_adc(){\n",
    "    i2c i2c_device = i2c_open(3, 2);\n",
    "    unsigned char buf[2];\n",
    "    buf[0] = 0;\n",
    "    i2c_write(i2c_device, 0x28, buf, 1);\n",
    "    i2c_read(i2c_device, 0x28, buf, 2);\n",
    "    return ((buf[0] & 0x0F) << 8) | buf[1];\n",
    "}"
   ]
  },
  {
   "cell_type": "code",
   "execution_count": 17,
   "metadata": {
    "id": "WtBxES6fbJFD"
   },
   "outputs": [
    {
     "data": {
      "text/plain": [
       "260"
      ]
     },
     "execution_count": 17,
     "metadata": {},
     "output_type": "execute_result"
    }
   ],
   "source": [
    "read_adc()"
   ]
  }
 ],
 "metadata": {
  "colab": {
   "name": "iic_example.ipynb",
   "provenance": []
  },
  "kernelspec": {
   "display_name": "Python 3 (ipykernel)",
   "language": "python",
   "name": "python3"
  },
  "language_info": {
   "codemirror_mode": {
    "name": "ipython",
    "version": 3
   },
   "file_extension": ".py",
   "mimetype": "text/x-python",
   "name": "python",
   "nbconvert_exporter": "python",
   "pygments_lexer": "ipython3",
   "version": "3.10.4"
  }
 },
 "nbformat": 4,
 "nbformat_minor": 1
}
