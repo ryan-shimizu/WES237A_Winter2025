{
 "cells": [
  {
   "cell_type": "code",
   "execution_count": null,
   "metadata": {},
   "outputs": [],
   "source": [
    "import time\n",
    "from pynq.overlays.base import BaseOverlay\n",
    "import socket\n",
    "\n",
    "base = BaseOverlay(\"base.bit\")"
   ]
  },
  {
   "cell_type": "markdown",
   "metadata": {},
   "source": [
    "# Sockets\n",
    "\n",
    "This notebook has both a client and a server functionality. One PYNQ board in the group will be the client and SENDS the message. Another PYNQ board will be the server and RECEIVES the message."
   ]
  },
  {
   "cell_type": "markdown",
   "metadata": {},
   "source": [
    "## Server\n",
    "\n",
    "Here, we'll build the server code to LISTEN for a message from a specific PYNQ board.\n",
    "\n",
    "When we send/receive messages, we need to pieces of information which will tell us where to send the information. First, we need the IP address of our friend. Second, we need to chose a port to listen on. For an analogy, Alice expects her friend, Bob, to deliver a package to our back door. With this information, ALICE (server ip address) can wait at the BACK DOOR (port) for BOB (client ip address) to deliver the package.\n",
    "\n",
    "Format of the information\n",
    " ipv4 address: ###.###.###.### (no need for leading zeros if the number is less than three digits)\n",
    " port: ##### (it could be 4 or 5 digits long, but must be >1024)\n",
    " \n",
    "Use the socket documentation (Section 18.1.3) to find the appropriate functions https://python.readthedocs.io/en/latest/library/socket.html\n"
   ]
  },
  {
   "cell_type": "code",
   "execution_count": 24,
   "metadata": {},
   "outputs": [
    {
     "name": "stdout",
     "output_type": "stream",
     "text": [
      "Waiting for connection\n",
      "Connected\n",
      "tets\n",
      "Connection closed.\n"
     ]
    }
   ],
   "source": [
    "HOST_ADDR = '192.168.0.102'\n",
    "HOST_PORT = 65432\n",
    "BUF_SIZE = 1024\n",
    "\n",
    "def run_program():\n",
    "    # TODO:\n",
    "    # 1: Bind the socket to the pynq board <CLIENT-IP> at port <LISTENING-PORT>\n",
    "    sock_l = socket.socket(socket.AF_INET, socket.SOCK_STREAM)\n",
    "    sock_l.bind((HOST_ADDR, HOST_PORT))\n",
    "    # 2: Accept connections\n",
    "    sock_l.listen()\n",
    "    print('Waiting for connection')\n",
    "    conn, addr = sock_l.accept()\n",
    "    print('Connected')\n",
    "    # 3: Receive bytes from the connection\n",
    "    with conn:\n",
    "        data = conn.recv(BUF_SIZE)\n",
    "        # 4: Print the received message\n",
    "        print(data.decode())\n",
    "    print(\"Connection closed.\")\n",
    "\n",
    "\n",
    "original_sigint = signal.getsignal(signal.SIGINT)\n",
    "signal.signal(signal.SIGINT, exit)\n",
    "run_program()"
   ]
  },
  {
   "cell_type": "markdown",
   "metadata": {},
   "source": [
    "## Client\n",
    "\n",
    "Now, we can implement the CLIENT code. \n",
    "\n",
    "Back to the analogy, now we're interested in delivering a package to our friend's back door. This means BOB (client ip address) is delivering a package to ALICE (server ip address) at her BACK DOOR (port)\n",
    "\n",
    "**Remember to start the server before running the client code**"
   ]
  },
  {
   "cell_type": "code",
   "execution_count": null,
   "metadata": {},
   "outputs": [],
   "source": [
    "HOST_ADDR = \"192.168.0.100\"  # ryan laptop\n",
    "HOST_PORT = 65432\n",
    "\n",
    "with socket.socket(socket.AF_INET, socket.SOCK_STREAM) as sock:\n",
    "    # TODO: \n",
    "    # 1: Connect the socket (sock) to the <SERVER-IP> and choosen port <LISTENING-PORT>\n",
    "    sock.connect((HOST_ADDR, HOST_PORT))\n",
    "    # 2: Send the message \"Hello world!\\n\"\n",
    "    sock.sendall(b\"Hello world!\\n\")\n",
    "    # 3: Close the socket\n",
    "    # auto close\n",
    "\n",
    "print(\"Connection closed.\")"
   ]
  },
  {
   "cell_type": "markdown",
   "metadata": {},
   "source": [
    "On your server, you should see the message and then the server will shutdown! When we close a socket, both the client and the server are disconnected from the port.\n",
    "\n",
    "Instead, change the function above to send 5 messages before closing.\n",
    "\n",
    "The pseudocode looks like this\n",
    "\n",
    "* connect the socket\n",
    "* for i in range(5)\n",
    "    * msg = input(\"Message to send: \")\n",
    "    * send the message (msg)\n",
    "* close the socket"
   ]
  },
  {
   "cell_type": "markdown",
   "metadata": {},
   "source": [
    "# Server with persistent socket"
   ]
  },
  {
   "cell_type": "code",
   "execution_count": null,
   "metadata": {},
   "outputs": [
    {
     "name": "stdout",
     "output_type": "stream",
     "text": [
      "Waiting for connection\n",
      "Connected\n",
      "test\n",
      "hello\n",
      "thisisatest\n",
      "\n",
      "\n"
     ]
    }
   ],
   "source": [
    "import socket\n",
    "import time\n",
    "import signal\n",
    "import sys\n",
    "\n",
    "HOST_ADDR = '192.168.0.102'\n",
    "HOST_PORT = 65432\n",
    "BUF_SIZE = 1024\n",
    "\n",
    "def run_program():\n",
    "    sock_l = socket.socket(socket.AF_INET, socket.SOCK_STREAM)\n",
    "    sock_l.bind((HOST_ADDR, HOST_PORT))\n",
    "    sock_l.listen()\n",
    "    print('Waiting for connection')\n",
    "    conn, addr = sock_l.accept()\n",
    "    print('Connected')\n",
    "    with conn:\n",
    "        for i in range(5):\n",
    "            data = conn.recv(BUF_SIZE)\n",
    "            print(data.decode())\n",
    "    print(\"Connection closed.\")\n",
    "\n",
    "\n",
    "original_sigint = signal.getsignal(signal.SIGINT)\n",
    "signal.signal(signal.SIGINT, exit)\n",
    "run_program()"
   ]
  },
  {
   "cell_type": "markdown",
   "metadata": {},
   "source": [
    "# Client with persistent socket"
   ]
  },
  {
   "cell_type": "code",
   "execution_count": 20,
   "metadata": {},
   "outputs": [
    {
     "name": "stdout",
     "output_type": "stream",
     "text": [
      "Sent to server\n",
      "Sent to server\n",
      "Sent to server\n",
      "Sent to server\n",
      "Sent to server\n",
      "Connection closed.\n"
     ]
    }
   ],
   "source": [
    "HOST_ADDR = \"192.168.0.100\"  # ryan laptop\n",
    "HOST_PORT = 65432\n",
    "\n",
    "with socket.socket(socket.AF_INET, socket.SOCK_STREAM) as sock:\n",
    "    # TODO: \n",
    "    # 1: Connect the socket (sock) to the <SERVER-IP> and choosen port <LISTENING-PORT>\n",
    "    sock.connect((HOST_ADDR, HOST_PORT))\n",
    "    # 2: Send the message \"Hello world!\\n\"\n",
    "    for i in range(5):\n",
    "        msg = input(\"Message to send: \")\n",
    "        sock.sendall(str.encode(msg))\n",
    "        print(\"Sent to server\")\n",
    "    # 3: Close the socket\n",
    "    # auto close\n",
    "\n",
    "print(\"Connection closed.\")"
   ]
  }
 ],
 "metadata": {
  "kernelspec": {
   "display_name": "Python 3 (ipykernel)",
   "language": "python",
   "name": "python3"
  },
  "language_info": {
   "codemirror_mode": {
    "name": "ipython",
    "version": 3
   },
   "file_extension": ".py",
   "mimetype": "text/x-python",
   "name": "python",
   "nbconvert_exporter": "python",
   "pygments_lexer": "ipython3",
   "version": "3.10.4"
  }
 },
 "nbformat": 4,
 "nbformat_minor": 2
}
