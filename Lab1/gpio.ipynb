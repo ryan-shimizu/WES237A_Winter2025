{
 "cells": [
  {
   "cell_type": "markdown",
   "metadata": {},
   "source": [
    "# Interacting with GPIO from MicroBlaze"
   ]
  },
  {
   "cell_type": "code",
   "execution_count": null,
   "metadata": {},
   "outputs": [],
   "source": [
    "from pynq.overlays.base import BaseOverlay\n",
    "import time\n",
    "from datetime import datetime\n",
    "base = BaseOverlay(\"base.bit\")"
   ]
  },
  {
   "cell_type": "code",
   "execution_count": null,
   "metadata": {},
   "outputs": [],
   "source": [
    "%%microblaze base.PMODB\n",
    "\n",
    "#include \"gpio.h\"\n",
    "#include \"pyprintf.h\"\n",
    "\n",
    "//Function to turn on/off a selected pin of PMODB\n",
    "void write_gpio(unsigned int pin, unsigned int val){\n",
    "    if (val > 1){\n",
    "        pyprintf(\"pin value must be 0 or 1\");\n",
    "    }\n",
    "    else {\n",
    "        gpio pin_out = gpio_open(pin);\n",
    "        gpio_set_direction(pin_out, GPIO_OUT);\n",
    "        gpio_write(pin_out, val);\n",
    "    }\n",
    "}\n",
    "\n",
    "//Function to read the value of a selected pin of PMODB\n",
    "unsigned int read_gpio(unsigned int pin){\n",
    "    gpio pin_in = gpio_open(pin);\n",
    "    gpio_set_direction(pin_in, GPIO_IN);\n",
    "    return gpio_read(pin_in);\n",
    "}"
   ]
  },
  {
   "cell_type": "code",
   "execution_count": null,
   "metadata": {},
   "outputs": [],
   "source": [
    "write_gpio(0, 2)\n",
    "read_gpio(1)"
   ]
  },
  {
   "cell_type": "markdown",
   "metadata": {},
   "source": [
    "# Multi-tasking with MicroBlaze "
   ]
  },
  {
   "cell_type": "code",
   "execution_count": null,
   "metadata": {},
   "outputs": [],
   "source": [
    "base = BaseOverlay(\"base.bit\")"
   ]
  },
  {
   "cell_type": "code",
   "execution_count": null,
   "metadata": {},
   "outputs": [],
   "source": [
    "%%microblaze base.PMODA\n",
    "\n",
    "#include \"gpio.h\"\n",
    "#include \"pyprintf.h\"\n",
    "\n",
    "//Function to turn on/off a selected pin of PMODA\n",
    "void write_gpio(unsigned int pin, unsigned int val){\n",
    "    if (val > 1){\n",
    "        pyprintf(\"pin value must be 0 or 1\");\n",
    "    }\n",
    "    else {\n",
    "        gpio pin_out = gpio_open(pin);\n",
    "        gpio_set_direction(pin_out, GPIO_OUT);\n",
    "        gpio_write(pin_out, val);\n",
    "    }\n",
    "}\n",
    "\n",
    "//Function to read the value of a selected pin of PMODA\n",
    "unsigned int read_gpio(unsigned int pin){\n",
    "    gpio pin_in = gpio_open(pin);\n",
    "    gpio_set_direction(pin_in, GPIO_IN);\n",
    "    return gpio_read(pin_in);\n",
    "}\n",
    "\n",
    "//Multitasking the microblaze for a simple function\n",
    "int add(int a, int b){\n",
    "    return a + b;\n",
    "}"
   ]
  },
  {
   "cell_type": "code",
   "execution_count": null,
   "metadata": {},
   "outputs": [],
   "source": [
    "val = 1\n",
    "write_gpio(0, val)\n",
    "read_gpio(1)"
   ]
  },
  {
   "cell_type": "code",
   "execution_count": null,
   "metadata": {},
   "outputs": [],
   "source": [
    "add(2, 30)"
   ]
  },
  {
   "cell_type": "markdown",
   "metadata": {},
   "source": [
    "# Lab work\n",
    "Use the code from the second cell as a template and write a code to use two pins (0 and 1) for send and two pins (2 and 3) for receive. You should be able to send 2bits (0~3) over GPIO. You'll need to hardwire from the send pins to the receive pins."
   ]
  },
  {
   "cell_type": "code",
   "execution_count": 1,
   "metadata": {},
   "outputs": [
    {
     "data": {
      "application/javascript": [
       "\n",
       "try {\n",
       "require(['notebook/js/codecell'], function(codecell) {\n",
       "  codecell.CodeCell.options_default.highlight_modes[\n",
       "      'magic_text/x-csrc'] = {'reg':[/^%%microblaze/]};\n",
       "  Jupyter.notebook.events.one('kernel_ready.Kernel', function(){\n",
       "      Jupyter.notebook.get_cells().map(function(cell){\n",
       "          if (cell.cell_type == 'code'){ cell.auto_highlight(); } }) ;\n",
       "  });\n",
       "});\n",
       "} catch (e) {};\n"
      ]
     },
     "metadata": {},
     "output_type": "display_data"
    },
    {
     "data": {
      "application/javascript": [
       "\n",
       "try {\n",
       "require(['notebook/js/codecell'], function(codecell) {\n",
       "  codecell.CodeCell.options_default.highlight_modes[\n",
       "      'magic_text/x-csrc'] = {'reg':[/^%%pybind11/]};\n",
       "  Jupyter.notebook.events.one('kernel_ready.Kernel', function(){\n",
       "      Jupyter.notebook.get_cells().map(function(cell){\n",
       "          if (cell.cell_type == 'code'){ cell.auto_highlight(); } }) ;\n",
       "  });\n",
       "});\n",
       "} catch (e) {};\n"
      ]
     },
     "metadata": {},
     "output_type": "display_data"
    }
   ],
   "source": [
    "from pynq.overlays.base import BaseOverlay\n",
    "from pynq.lib.pmod.pmod_io import Pmod_IO\n",
    "import time\n",
    "from datetime import datetime\n",
    "base = BaseOverlay(\"base.bit\")"
   ]
  },
  {
   "cell_type": "code",
   "execution_count": 2,
   "metadata": {},
   "outputs": [],
   "source": [
    "%%microblaze base.PMODB\n",
    "\n",
    "#include \"gpio.h\"\n",
    "#include \"pyprintf.h\"\n",
    "\n",
    "//Function to turn on/off a selected pin of PMODB\n",
    "void write_gpio(unsigned int pin, unsigned int val){\n",
    "    if (val > 1){\n",
    "        pyprintf(\"pin value must be 0 or 1\");\n",
    "    }\n",
    "    else {\n",
    "        gpio pin_out = gpio_open(pin);\n",
    "        gpio_set_direction(pin_out, GPIO_OUT);\n",
    "        gpio_write(pin_out, val);\n",
    "    }\n",
    "}\n",
    "\n",
    "//Function to read the value of a selected pin of PMODB\n",
    "unsigned int read_gpio(unsigned int pin){\n",
    "    gpio pin_in = gpio_open(pin);\n",
    "    gpio_set_direction(pin_in, GPIO_IN);\n",
    "    return gpio_read(pin_in);\n",
    "}"
   ]
  },
  {
   "cell_type": "code",
   "execution_count": 5,
   "metadata": {},
   "outputs": [
    {
     "name": "stdout",
     "output_type": "stream",
     "text": [
      "Received Value: 1\n"
     ]
    }
   ],
   "source": [
    "rcvPin1 = 0\n",
    "rcvPin2 = 1\n",
    "# Looping back PMODA_0 -> PMODB_0, PMODA_1 -> PMODB_1\n",
    "sendPin1 = Pmod_IO(base.PMODA,0,'out')\n",
    "sendPin2 = Pmod_IO(base.PMODA,1,'out')\n",
    "\n",
    "sendVal = 1\n",
    "sendPin1.write((sendVal >> 0) & 0x1)\n",
    "sendPin2.write((sendVal >> 1) & 0x1)\n",
    "rcvdVal1 = read_gpio(rcvPin1)\n",
    "rcvdVal2 = read_gpio(rcvPin2)\n",
    "print(f\"Received Value: {(rcvdVal2 << 1) | rcvdVal1}\")"
   ]
  },
  {
   "cell_type": "code",
   "execution_count": null,
   "metadata": {},
   "outputs": [],
   "source": []
  }
 ],
 "metadata": {
  "kernelspec": {
   "display_name": "Python 3 (ipykernel)",
   "language": "python",
   "name": "python3"
  },
  "language_info": {
   "codemirror_mode": {
    "name": "ipython",
    "version": 3
   },
   "file_extension": ".py",
   "mimetype": "text/x-python",
   "name": "python",
   "nbconvert_exporter": "python",
   "pygments_lexer": "ipython3",
   "version": "3.10.4"
  }
 },
 "nbformat": 4,
 "nbformat_minor": 2
}
