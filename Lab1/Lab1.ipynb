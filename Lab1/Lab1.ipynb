{
 "cells": [
  {
   "cell_type": "code",
   "execution_count": 1,
   "id": "c72dfe55",
   "metadata": {},
   "outputs": [
    {
     "name": "stdout",
     "output_type": "stream",
     "text": [
      "Hello World\n"
     ]
    }
   ],
   "source": [
    "print(\"Hello World\")"
   ]
  },
  {
   "cell_type": "markdown",
   "id": "8ecf8875",
   "metadata": {},
   "source": [
    "Import base overlay and time"
   ]
  },
  {
   "cell_type": "code",
   "execution_count": 2,
   "id": "d168d19f",
   "metadata": {},
   "outputs": [
    {
     "data": {
      "application/javascript": [
       "\n",
       "try {\n",
       "require(['notebook/js/codecell'], function(codecell) {\n",
       "  codecell.CodeCell.options_default.highlight_modes[\n",
       "      'magic_text/x-csrc'] = {'reg':[/^%%microblaze/]};\n",
       "  Jupyter.notebook.events.one('kernel_ready.Kernel', function(){\n",
       "      Jupyter.notebook.get_cells().map(function(cell){\n",
       "          if (cell.cell_type == 'code'){ cell.auto_highlight(); } }) ;\n",
       "  });\n",
       "});\n",
       "} catch (e) {};\n"
      ]
     },
     "metadata": {},
     "output_type": "display_data"
    },
    {
     "data": {
      "application/javascript": [
       "\n",
       "try {\n",
       "require(['notebook/js/codecell'], function(codecell) {\n",
       "  codecell.CodeCell.options_default.highlight_modes[\n",
       "      'magic_text/x-csrc'] = {'reg':[/^%%pybind11/]};\n",
       "  Jupyter.notebook.events.one('kernel_ready.Kernel', function(){\n",
       "      Jupyter.notebook.get_cells().map(function(cell){\n",
       "          if (cell.cell_type == 'code'){ cell.auto_highlight(); } }) ;\n",
       "  });\n",
       "});\n",
       "} catch (e) {};\n"
      ]
     },
     "metadata": {},
     "output_type": "display_data"
    }
   ],
   "source": [
    "from pynq.overlays.base import BaseOverlay\n",
    "import time"
   ]
  },
  {
   "cell_type": "code",
   "execution_count": 5,
   "id": "92d86926",
   "metadata": {},
   "outputs": [],
   "source": [
    "base = BaseOverlay(\"base.bit\")"
   ]
  },
  {
   "cell_type": "code",
   "execution_count": 6,
   "id": "09e4f7c7",
   "metadata": {},
   "outputs": [
    {
     "name": "stdout",
     "output_type": "stream",
     "text": [
      "Help on BaseOverlay in module pynq.overlays.base.base:\n",
      "\n",
      "<pynq.overlays.base.base.BaseOverlay object>\n",
      "    Default documentation for overlay base.bit. The following\n",
      "    attributes are available on this overlay:\n",
      "    \n",
      "    IP Blocks\n",
      "    ----------\n",
      "    switches_gpio        : pynq.lib.axigpio.AxiGPIO\n",
      "    btns_gpio            : pynq.lib.axigpio.AxiGPIO\n",
      "    video/hdmi_in/frontend/axi_gpio_hdmiin : pynq.lib.axigpio.AxiGPIO\n",
      "    video/hdmi_out/frontend/hdmi_out_hpd_video : pynq.lib.axigpio.AxiGPIO\n",
      "    rgbleds_gpio         : pynq.lib.axigpio.AxiGPIO\n",
      "    leds_gpio            : pynq.lib.axigpio.AxiGPIO\n",
      "    system_interrupts    : pynq.overlay.DefaultIP\n",
      "    video/axi_vdma       : pynq.lib.video.dma.AxiVDMA\n",
      "    audio_codec_ctrl_0   : pynq.lib.audio.AudioADAU1761\n",
      "    video/hdmi_out/frontend/axi_dynclk : pynq.overlay.DefaultIP\n",
      "    video/hdmi_out/frontend/vtc_out : pynq.overlay.DefaultIP\n",
      "    video/hdmi_in/frontend/vtc_in : pynq.overlay.DefaultIP\n",
      "    video/hdmi_in/pixel_pack : pynq.lib.video.pipeline.PixelPacker\n",
      "    video/hdmi_in/color_convert : pynq.lib.video.pipeline.ColorConverter\n",
      "    video/hdmi_out/color_convert : pynq.lib.video.pipeline.ColorConverter\n",
      "    video/hdmi_out/pixel_unpack : pynq.lib.video.pipeline.PixelPacker\n",
      "    trace_analyzer_pmodb/axi_dma_0 : pynq.lib.dma.DMA\n",
      "    trace_analyzer_pi/axi_dma_0 : pynq.lib.dma.DMA\n",
      "    trace_analyzer_pi/trace_cntrl_64_0 : pynq.overlay.DefaultIP\n",
      "    trace_analyzer_pmodb/trace_cntrl_32_0 : pynq.overlay.DefaultIP\n",
      "    ps7_0                : pynq.overlay.DefaultIP\n",
      "    \n",
      "    Hierarchies\n",
      "    -----------\n",
      "    iop_arduino          : pynq.lib.pynqmicroblaze.pynqmicroblaze.MicroblazeHierarchy\n",
      "    iop_pmoda            : pynq.lib.pynqmicroblaze.pynqmicroblaze.MicroblazeHierarchy\n",
      "    iop_pmodb            : pynq.lib.pynqmicroblaze.pynqmicroblaze.MicroblazeHierarchy\n",
      "    iop_rpi              : pynq.lib.pynqmicroblaze.pynqmicroblaze.MicroblazeHierarchy\n",
      "    trace_analyzer_pi    : pynq.overlay.DefaultHierarchy\n",
      "    trace_analyzer_pmodb : pynq.overlay.DefaultHierarchy\n",
      "    video                : pynq.lib.video.hierarchies.HDMIWrapper\n",
      "    video/hdmi_in        : pynq.lib.video.hierarchies.VideoIn\n",
      "    video/hdmi_in/frontend : pynq.lib.video.dvi.HDMIInFrontend\n",
      "    video/hdmi_out       : pynq.lib.video.hierarchies.VideoOut\n",
      "    video/hdmi_out/frontend : pynq.lib.video.dvi.HDMIOutFrontend\n",
      "    \n",
      "    Interrupts\n",
      "    ----------\n",
      "    None\n",
      "    \n",
      "    GPIO Outputs\n",
      "    ------------\n",
      "    None\n",
      "    \n",
      "    Memories\n",
      "    ------------\n",
      "    iop_pmodamb_bram_ctrl : Memory\n",
      "    iop_pmodbmb_bram_ctrl : Memory\n",
      "    iop_arduinomb_bram_ctrl : Memory\n",
      "    iop_rpimb_bram_ctrl  : Memory\n",
      "    PSDDR                : Memory\n",
      "\n"
     ]
    }
   ],
   "source": [
    "help(base)"
   ]
  },
  {
   "cell_type": "code",
   "execution_count": 9,
   "id": "c491a015",
   "metadata": {},
   "outputs": [],
   "source": [
    "led0 = base.leds[0]\n",
    "led0.on()\n",
    "time.sleep(2)\n",
    "led0.off()"
   ]
  },
  {
   "cell_type": "code",
   "execution_count": 10,
   "id": "f88d13fc",
   "metadata": {},
   "outputs": [],
   "source": [
    "from pynq.overlays.base import BaseOverlay\n",
    "import pynq.lib.rgbled as rgbled\n",
    "import time\n",
    "base = BaseOverlay(\"base.bit\")"
   ]
  },
  {
   "cell_type": "code",
   "execution_count": 11,
   "id": "d8f626d4",
   "metadata": {},
   "outputs": [
    {
     "name": "stdout",
     "output_type": "stream",
     "text": [
      "Help on module pynq.lib.rgbled in pynq.lib:\n",
      "\n",
      "NAME\n",
      "    pynq.lib.rgbled\n",
      "\n",
      "DESCRIPTION\n",
      "    #   Copyright (c) 2016, Xilinx, Inc.\n",
      "    #   SPDX-License-Identifier: BSD-3-Clause\n",
      "\n",
      "CLASSES\n",
      "    builtins.object\n",
      "        RGBLED\n",
      "    \n",
      "    class RGBLED(builtins.object)\n",
      "     |  RGBLED(index, ip_name='rgbleds_gpio', start_index=inf)\n",
      "     |  \n",
      "     |  This class controls the onboard RGB LEDs.\n",
      "     |  \n",
      "     |  Attributes\n",
      "     |  ----------\n",
      "     |  index : int\n",
      "     |      The index of the RGB LED. Can be an arbitrary value.\n",
      "     |  _mmio : MMIO\n",
      "     |      Shared memory map for the RGBLED GPIO controller.\n",
      "     |  _rgbleds_val : int\n",
      "     |      Global value of the RGBLED GPIO pins.\n",
      "     |  _rgbleds_start_index : int\n",
      "     |      Global value representing the lowest index for RGB LEDs\n",
      "     |  \n",
      "     |  Methods defined here:\n",
      "     |  \n",
      "     |  __init__(self, index, ip_name='rgbleds_gpio', start_index=inf)\n",
      "     |      Create a new RGB LED object.\n",
      "     |      \n",
      "     |      Parameters\n",
      "     |      ----------\n",
      "     |      index : int\n",
      "     |          Index of the RGBLED, Can be an arbitrary value.\n",
      "     |          The smallest index given will set the global value\n",
      "     |          `_rgbleds_start_index`. This behavior can be overridden by defining\n",
      "     |          `start_index`.\n",
      "     |      ip_name : str\n",
      "     |          Name of the IP in  the `ip_dict`. Defaults to \"rgbleds_gpio\".\n",
      "     |      start_index : int\n",
      "     |          If defined, will be used to update the global value\n",
      "     |          `_rgbleds_start_index`.\n",
      "     |  \n",
      "     |  off(self)\n",
      "     |      Turn off a single RGBLED.\n",
      "     |      \n",
      "     |      Returns\n",
      "     |      -------\n",
      "     |      None\n",
      "     |  \n",
      "     |  on(self, color)\n",
      "     |      Turn on a single RGB LED with a color value (see color constants).\n",
      "     |      \n",
      "     |      Parameters\n",
      "     |      ----------\n",
      "     |      color : int\n",
      "     |         Color of RGB specified by a 3-bit RGB integer value.\n",
      "     |      \n",
      "     |      Returns\n",
      "     |      -------\n",
      "     |      None\n",
      "     |  \n",
      "     |  read(self)\n",
      "     |      Retrieve the RGBLED state.\n",
      "     |      \n",
      "     |      Returns\n",
      "     |      -------\n",
      "     |      int\n",
      "     |          The color value stored in the RGBLED.\n",
      "     |  \n",
      "     |  write(self, color)\n",
      "     |      Set the RGBLED state according to the input value.\n",
      "     |      \n",
      "     |      Parameters\n",
      "     |      ----------\n",
      "     |      color : int\n",
      "     |          Color of RGB specified by a 3-bit RGB integer value.\n",
      "     |      \n",
      "     |      Returns\n",
      "     |      -------\n",
      "     |      None\n",
      "     |  \n",
      "     |  ----------------------------------------------------------------------\n",
      "     |  Data descriptors defined here:\n",
      "     |  \n",
      "     |  __dict__\n",
      "     |      dictionary for instance variables (if defined)\n",
      "     |  \n",
      "     |  __weakref__\n",
      "     |      list of weak references to the object (if defined)\n",
      "\n",
      "DATA\n",
      "    RGBLEDS_XGPIO_OFFSET = 0\n",
      "    RGB_BLUE = 1\n",
      "    RGB_CLEAR = 0\n",
      "    RGB_CYAN = 3\n",
      "    RGB_GREEN = 2\n",
      "    RGB_MAGENTA = 5\n",
      "    RGB_RED = 4\n",
      "    RGB_WHITE = 7\n",
      "    RGB_YELLOW = 6\n",
      "\n",
      "FILE\n",
      "    /usr/local/share/pynq-venv/lib/python3.10/site-packages/pynq/lib/rgbled.py\n",
      "\n",
      "\n"
     ]
    }
   ],
   "source": [
    "help(rgbled)"
   ]
  },
  {
   "cell_type": "code",
   "execution_count": 12,
   "id": "8478b242",
   "metadata": {},
   "outputs": [],
   "source": [
    "led4 = rgbled.RGBLED(4)\n",
    "led5 = rgbled.RGBLED(5)"
   ]
  },
  {
   "cell_type": "code",
   "execution_count": 13,
   "id": "a79cdd27",
   "metadata": {},
   "outputs": [],
   "source": [
    "led4.write(0x7)\n",
    "led5.write(0x4)"
   ]
  },
  {
   "cell_type": "code",
   "execution_count": 14,
   "id": "7dcabf28",
   "metadata": {},
   "outputs": [],
   "source": [
    "led4.write(0x0)\n",
    "led5.write(0x0)"
   ]
  },
  {
   "cell_type": "code",
   "execution_count": null,
   "id": "938369ec",
   "metadata": {},
   "outputs": [],
   "source": []
  }
 ],
 "metadata": {
  "kernelspec": {
   "display_name": "Python 3 (ipykernel)",
   "language": "python",
   "name": "python3"
  },
  "language_info": {
   "codemirror_mode": {
    "name": "ipython",
    "version": 3
   },
   "file_extension": ".py",
   "mimetype": "text/x-python",
   "name": "python",
   "nbconvert_exporter": "python",
   "pygments_lexer": "ipython3",
   "version": "3.10.4"
  }
 },
 "nbformat": 4,
 "nbformat_minor": 5
}
