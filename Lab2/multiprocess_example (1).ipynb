{
 "cells": [
  {
   "cell_type": "markdown",
   "metadata": {},
   "source": [
    "# multiprocessing\n",
    "importing required libraries and our shared library"
   ]
  },
  {
   "cell_type": "code",
   "execution_count": 1,
   "metadata": {},
   "outputs": [],
   "source": [
    "import ctypes\n",
    "import multiprocessing\n",
    "from multiprocessing import Array as mpArray\n",
    "import os\n",
    "import time"
   ]
  },
  {
   "cell_type": "code",
   "execution_count": 2,
   "metadata": {},
   "outputs": [],
   "source": [
    "_libInC = ctypes.CDLL('./libMyLib.so')"
   ]
  },
  {
   "cell_type": "markdown",
   "metadata": {},
   "source": [
    "Here, we slightly adjust our Python wrapper to calculate the results and print it. There is also some additional casting to ensure that the result of the _libInC.myAdd()_ is an int32 type."
   ]
  },
  {
   "cell_type": "code",
   "execution_count": 3,
   "metadata": {},
   "outputs": [],
   "source": [
    "def addC_print(_i, a, b, time_started):\n",
    "    val = ctypes.c_int32(_libInC.myAdd(a, b)).value #cast the result to a 32 bit integer\n",
    "    end_time = time.time()\n",
    "    print('CPU_{} Add: {} in {}'.format(_i, val, end_time - time_started))\n",
    "    \n",
    "def multC_print(_i, a, b, time_started):\n",
    "    val = ctypes.c_int32(_libInC.myMultiply(a, b)).value #cast the result to a 32 bit integer\n",
    "    end_time = time.time()\n",
    "    print('CPU_{} Multiply: {} in {}'.format(_i, val, end_time - time_started))"
   ]
  },
  {
   "cell_type": "markdown",
   "metadata": {},
   "source": [
    "Now for the fun stuff.\n",
    "\n",
    "The multiprocessing library allows us to run simultaneous code by utilizing multiple processes. These processes are handled in separate memory spaces and are not restricted to the Global Interpreter Lock (GIL). \n",
    "\n",
    "Here we define two proceses, one to run the _addC_print_ and another to run the _multC_print()_ wrappers. \n",
    "\n",
    "Next we assign each process to be run on difference CPUs"
   ]
  },
  {
   "cell_type": "code",
   "execution_count": 5,
   "metadata": {},
   "outputs": [
    {
     "name": "stdout",
     "output_type": "stream",
     "text": [
      "pid 1146's current affinity list: 0,1\n",
      "pid 1146's new affinity list: 0\n",
      "pid 1149's current affinity list: 0,1\n",
      "pid 1149's new affinity list: 1\n",
      "Active processes: 1146 1149\n",
      "CPU_0 Add: 8 in 10.034737348556519\n",
      "Process 1146 with name, add, is finished\n",
      "CPU_1 Multiply: 15 in 30.049230575561523\n",
      "Process 1149 with name, mult, is finished\n"
     ]
    }
   ],
   "source": [
    "procs = [] # a future list of all our processes\n",
    "\n",
    "# Launch process1 on CPU0\n",
    "p1_start = time.time()\n",
    "p1 = multiprocessing.Process(target=addC_print, name=\"add\",args=(0, 3, 5, p1_start)) # the first arg defines which CPU to run the 'target' on\n",
    "p1.start() # start the process\n",
    "os.system(\"taskset -p -c {} {}\".format(0, p1.pid)) # taskset is an os command to pin the process to a specific CPU\n",
    "procs.append(p1)\n",
    "\n",
    "# Launch process2 on CPU1\n",
    "p2_start = time.time()\n",
    "p2 = multiprocessing.Process(target=multC_print, name=\"mult\",args=(1, 3, 5, p2_start)) # the first arg defines which CPU to run the 'target' on\n",
    "p2.start() # start the process\n",
    "os.system(\"taskset -p -c {} {}\".format(1, p2.pid)) # taskset is an os command to pin the process to a specific CPU\n",
    "procs.append(p2)\n",
    "\n",
    "p1Name = p1.name # get process1 name\n",
    "p2Name = p2.name # get process2 name\n",
    "\n",
    "# Here we wait for process1 to finish then wait for process2 to finish\n",
    "print(\"Active processes: {} {}\".format(p1.pid, p2.pid))\n",
    "p1.join() # wait for process1 to finish\n",
    "print('Process {} with name, {}, is finished'.format(p1.pid,p1Name))\n",
    "\n",
    "p2.join() # wait for process2 to finish\n",
    "print('Process {} with name, {}, is finished'.format(p2.pid,p2Name))"
   ]
  },
  {
   "cell_type": "markdown",
   "metadata": {},
   "source": [
    "Return to 'main.c' and change the amount of sleep time (in seconds) of each function.\n",
    "\n",
    "For different values of sleep(), explain the difference between the results of the ‘Add’ and ‘Multiply’ functions and when the Processes are finished."
   ]
  },
  {
   "cell_type": "markdown",
   "metadata": {},
   "source": [
    "# Lab work\n",
    "\n",
    "One way around the GIL in order to share memory objects is to use multiprocessing objects. Here, we're going to do the following.\n",
    "\n",
    "1. Create a multiprocessing array object with 2 entries of integer type.\n",
    "2. Launch 1 process to compute addition and 1 process to compute multiplication.\n",
    "3. Assign the results to separate positions in the array.\n",
    "  1. Process 1 (add) is stored in index 0 of the array (array[0])\n",
    "  2. Process 2 (mult) is stored in index 1 of the array (array[1])\n",
    "4. Print the results from the array.\n",
    "\n",
    "\n",
    "Thus, the multiprocessing Array object exists in a _shared memory_ space so both processes can access it.\n",
    "\n",
    "## Array documentation:\n",
    "\n",
    "https://docs.python.org/2/library/multiprocessing.html#multiprocessing.Array\n",
    "\n",
    "\n",
    "## typecodes/types for Array:\n",
    "'c': ctypes.c_char\n",
    "\n",
    "'b': ctypes.c_byte\n",
    "\n",
    "'B': ctypes.c_ubyte\n",
    "\n",
    "'h': ctypes.c_short\n",
    "\n",
    "'H': ctypes.c_ushort\n",
    "\n",
    "'i': ctypes.c_int\n",
    "\n",
    "'I': ctypes.c_uint\n",
    "\n",
    "'l': ctypes.c_long\n",
    "\n",
    "'L': ctypes.c_ulong\n",
    "\n",
    "'f': ctypes.c_float\n",
    "\n",
    "'d': ctypes.c_double\n",
    "\n",
    "## Try to find an example\n",
    "\n",
    "You can use online reources to find an example for how to use multiprocessing Array "
   ]
  },
  {
   "cell_type": "code",
   "execution_count": 5,
   "metadata": {},
   "outputs": [
    {
     "name": "stdout",
     "output_type": "stream",
     "text": [
      "pid 1385's current affinity list: 0,1\n",
      "pid 1385's new affinity list: 0\n",
      "pid 1388's current affinity list: 0,1\n",
      "pid 1388's new affinity list: 1\n",
      "Add finished!\n",
      "Multiply finished!\n",
      "Process-3 is finished\n",
      "Process-4 is finished\n",
      "Shared Array Element 0: 0\n",
      "Shared Array Element 1: 23\n"
     ]
    }
   ],
   "source": [
    "def addC_no_print(_i, a, b, returnValues):\n",
    "    '''\n",
    "    Params:\n",
    "      _i   : Index of the process being run (0 or 1)\n",
    "      a, b : Integers to add\n",
    "      returnValues : Multiprocessing array in which we will store the result at index _i\n",
    "    '''\n",
    "    val = ctypes.c_int32(_libInC.myAdd(a, b)).value\n",
    "    # TODO: add code here to pass val to correct position returnValues\n",
    "    if returnValues.get_lock():\n",
    "        returnValues[_i] = returnValues[_i] + val\n",
    "        print(\"Add finished!\")\n",
    "    \n",
    "def multC_no_print(_i, a, b, returnValues):\n",
    "    '''\n",
    "    Params:\n",
    "      _i   : Index of the process being run (0 or 1)\n",
    "      a, b : Integers to multiply\n",
    "      returnValues : Multiprocessing array in which we will store the result at index _i\n",
    "    '''\n",
    "    val = ctypes.c_int32(_libInC.myMultiply(a, b)).value\n",
    "    # TODO: add code here to pass val to correct position of returnValues\n",
    "    if returnValues.get_lock():\n",
    "        returnValues[_i] = returnValues[_i] + val\n",
    "        print(\"Multiply finished!\")\n",
    "    \n",
    "procs = []\n",
    "\n",
    "# TODO: define returnValues here. Check the multiprocessing docs to see \n",
    "# about initializing an array object for 2 processes. \n",
    "# Note the data type that will be stored in the array\n",
    "returnValues = mpArray('i', 2, lock=True)\n",
    "\n",
    "\n",
    "p1 = multiprocessing.Process(target=addC_no_print, args=(1, 3, 5, returnValues)) # the first arg defines which CPU to run the 'target' on\n",
    "p1.start() # start the process\n",
    "os.system(\"taskset -p -c {} {}\".format(0, p1.pid)) # taskset is an os command to pin the process to a specific CPU\n",
    "procs.append(p1)\n",
    "\n",
    "p2 = multiprocessing.Process(target=multC_no_print, args=(1, 3, 5, returnValues)) # the first arg defines which CPU to run the 'target' on\n",
    "p2.start() # start the process\n",
    "os.system(\"taskset -p -c {} {}\".format(1, p2.pid)) # taskset is an os command to pin the process to a specific CPU\n",
    "procs.append(p2)\n",
    "\n",
    "# Wait for the processes to finish\n",
    "for p in procs:\n",
    "    pName = p.name # get process name\n",
    "    p.join() # wait for the process to finish\n",
    "    print('{} is finished'.format(pName))\n",
    "\n",
    "# TODO print the results that have been stored in returnValues\n",
    "for i in range(2):\n",
    "    print(f\"Shared Array Element {i}: {returnValues[i]}\")"
   ]
  },
  {
   "cell_type": "code",
   "execution_count": null,
   "metadata": {},
   "outputs": [],
   "source": []
  }
 ],
 "metadata": {
  "kernelspec": {
   "display_name": "Python 3 (ipykernel)",
   "language": "python",
   "name": "python3"
  },
  "language_info": {
   "codemirror_mode": {
    "name": "ipython",
    "version": 3
   },
   "file_extension": ".py",
   "mimetype": "text/x-python",
   "name": "python",
   "nbconvert_exporter": "python",
   "pygments_lexer": "ipython3",
   "version": "3.10.4"
  }
 },
 "nbformat": 4,
 "nbformat_minor": 2
}
