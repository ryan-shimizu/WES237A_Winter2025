{
 "cells": [
  {
   "cell_type": "markdown",
   "metadata": {},
   "source": [
    "# Assignment 1"
   ]
  },
  {
   "cell_type": "markdown",
   "metadata": {},
   "source": [
    "## Importing Libraries and Loading Base Overlay"
   ]
  },
  {
   "cell_type": "code",
   "execution_count": 1,
   "metadata": {},
   "outputs": [
    {
     "data": {
      "application/javascript": [
       "\n",
       "try {\n",
       "require(['notebook/js/codecell'], function(codecell) {\n",
       "  codecell.CodeCell.options_default.highlight_modes[\n",
       "      'magic_text/x-csrc'] = {'reg':[/^%%microblaze/]};\n",
       "  Jupyter.notebook.events.one('kernel_ready.Kernel', function(){\n",
       "      Jupyter.notebook.get_cells().map(function(cell){\n",
       "          if (cell.cell_type == 'code'){ cell.auto_highlight(); } }) ;\n",
       "  });\n",
       "});\n",
       "} catch (e) {};\n"
      ]
     },
     "metadata": {},
     "output_type": "display_data"
    },
    {
     "data": {
      "application/javascript": [
       "\n",
       "try {\n",
       "require(['notebook/js/codecell'], function(codecell) {\n",
       "  codecell.CodeCell.options_default.highlight_modes[\n",
       "      'magic_text/x-csrc'] = {'reg':[/^%%pybind11/]};\n",
       "  Jupyter.notebook.events.one('kernel_ready.Kernel', function(){\n",
       "      Jupyter.notebook.get_cells().map(function(cell){\n",
       "          if (cell.cell_type == 'code'){ cell.auto_highlight(); } }) ;\n",
       "  });\n",
       "});\n",
       "} catch (e) {};\n"
      ]
     },
     "metadata": {},
     "output_type": "display_data"
    }
   ],
   "source": [
    "from pynq.overlays.base import BaseOverlay\n",
    "import time\n",
    "from datetime import datetime\n",
    "base = BaseOverlay(\"base.bit\")"
   ]
  },
  {
   "cell_type": "markdown",
   "metadata": {},
   "source": [
    "## Inline C/C++ Functions to Interface with PMODB"
   ]
  },
  {
   "cell_type": "code",
   "execution_count": 2,
   "metadata": {},
   "outputs": [],
   "source": [
    "%%microblaze base.PMODB\n",
    "\n",
    "#include \"gpio.h\"\n",
    "#include \"pyprintf.h\"\n",
    "\n",
    "//Function to turn on/off a selected pin of PMODB\n",
    "unsigned int write_gpio(unsigned int pin, unsigned int val){\n",
    "    if (val > 1){\n",
    "        pyprintf(\"pin value must be 0 or 1\");\n",
    "    }\n",
    "    else {\n",
    "        gpio pin_out = gpio_open(pin);\n",
    "        gpio_set_direction(pin_out, GPIO_OUT);\n",
    "        gpio_write(pin_out, val);\n",
    "    }\n",
    "    return 0;\n",
    "}\n",
    "\n",
    "//Function to read the value of a selected pin of PMODB\n",
    "unsigned int read_gpio(unsigned int pin){\n",
    "    gpio pin_in = gpio_open(pin);\n",
    "    gpio_set_direction(pin_in, GPIO_IN);\n",
    "    return gpio_read(pin_in);\n",
    "}"
   ]
  },
  {
   "cell_type": "markdown",
   "metadata": {},
   "source": [
    "## Testing Blue LED with PMODB Driver"
   ]
  },
  {
   "cell_type": "code",
   "execution_count": null,
   "metadata": {},
   "outputs": [],
   "source": [
    "blue   = 1\n",
    "green  = 2\n",
    "red    = 3\n",
    "period = 0.02\n",
    "duty_cycle = 0.1\n",
    "duty_ratio = duty_cycle * period\n",
    "\n",
    "write_gpio(green, 0)\n",
    "write_gpio(red,0)\n",
    "\n",
    "# testing blue, 10 ms \n",
    "while(1):\n",
    "    write_gpio(blue, 1)\n",
    "    time.sleep(duty_ratio)\n",
    "    write_gpio(blue, 0)\n",
    "    time.sleep(period - duty_ratio)"
   ]
  },
  {
   "cell_type": "code",
   "execution_count": null,
   "metadata": {},
   "outputs": [],
   "source": [
    "## Fixed Duty Cycle 25%"
   ]
  },
  {
   "cell_type": "code",
   "execution_count": 3,
   "metadata": {},
   "outputs": [
    {
     "name": "stdout",
     "output_type": "stream",
     "text": [
      "Done.\n"
     ]
    }
   ],
   "source": [
    "import asyncio\n",
    "import pynq.lib.rgbled as rgbled \n",
    "cond = True\n",
    "# testing loop logic with onboard leds\n",
    "led4 = rgbled.RGBLED(4)\n",
    "led5 = rgbled.RGBLED(5)\n",
    "currentLed = led4\n",
    "currentVal = 0x1\n",
    "\n",
    "blue = 1\n",
    "green = 2\n",
    "red = 3 \n",
    "\n",
    "period = 0.01\n",
    "duty_cycle = 0.25\n",
    "currentColor = red\n",
    "\n",
    "async def flash_leds():\n",
    "    global cond, start, currentLed, currentVal, currentColor, period, duty_cycle\n",
    "    while True:\n",
    "        if cond:\n",
    "            currentLed.write(currentVal)\n",
    "            write_gpio(currentColor,1)\n",
    "            await asyncio.sleep(period*duty_cycle)\n",
    "            write_gpio(currentColor,0)\n",
    "            currentLed.write(0x0)\n",
    "            await asyncio.sleep(period-period*duty_cycle)\n",
    "        else:\n",
    "            currentLed.write(0x0)\n",
    "            currentColor.stop()\n",
    "\n",
    "async def get_btns(_loop):\n",
    "    global cond, start, currentLed, currentVal, currentColor, red, green, blue\n",
    "    while cond:\n",
    "        await asyncio.sleep(0.01)\n",
    "        if base.buttons[0].read() != 0:\n",
    "            currentLed.write(0x0)\n",
    "            currentLed = led4\n",
    "            currentVal = 0x3\n",
    "            \n",
    "            write_gpio(currentColor,0)\n",
    "            currentColor = red\n",
    "            write_gpio(currentColor,1)\n",
    "        if base.buttons[1].read() != 0:\n",
    "            currentLed.write(0x0)\n",
    "            currentLed = led4\n",
    "            currentVal = 0x7\n",
    "            \n",
    "            write_gpio(currentColor,0)\n",
    "            currentColor = green\n",
    "            write_gpio(currentColor,1)\n",
    "        if base.buttons[2].read() != 0:\n",
    "            currentLed.write(0x0)\n",
    "            currentLed = led5\n",
    "            currentVal = 0x1\n",
    "            \n",
    "            write_gpio(currentColor,0)\n",
    "            currentColor = blue\n",
    "            write_gpio(currentColor,1)\n",
    "        if base.buttons[3].read() != 0:\n",
    "            _loop.stop()\n",
    "            cond = False\n",
    "\n",
    "loop = asyncio.new_event_loop()\n",
    "loop.create_task(flash_leds())\n",
    "loop.create_task(get_btns(loop))\n",
    "loop.run_forever()\n",
    "loop.close()        \n",
    "led4.write(0x0)\n",
    "led5.write(0x0)\n",
    "write_gpio(green,0)\n",
    "write_gpio(red,0)\n",
    "write_gpio(blue,0)\n",
    "print(\"Done.\")"
   ]
  },
  {
   "cell_type": "markdown",
   "metadata": {},
   "source": [
    "## Onboard LED Testing"
   ]
  },
  {
   "cell_type": "code",
   "execution_count": null,
   "metadata": {},
   "outputs": [],
   "source": [
    "import asyncio\n",
    "import pynq.lib.rgbled as rgbled \n",
    "cond = True\n",
    "# testing loop logic with onboard leds\n",
    "led4 = rgbled.RGBLED(4)\n",
    "led5 = rgbled.RGBLED(5)\n",
    "currentLed = led4\n",
    "currentVal = 0x1\n",
    "\n",
    "async def flash_leds():\n",
    "    global cond, start, currentLed, currentVal\n",
    "    while True:\n",
    "        if cond:\n",
    "            currentLed.write(currentVal)\n",
    "            await asyncio.sleep(period*duty_cycle)\n",
    "            currentLed.write(0x0)\n",
    "            await asyncio.sleep(period-period*duty_cycle)\n",
    "        else:\n",
    "            currentLed.write(0x0)\n",
    "\n",
    "async def get_btns(_loop):\n",
    "    global cond, start, currentLed, currentVal\n",
    "    while cond:\n",
    "        await asyncio.sleep(0.01)\n",
    "        if base.buttons[0].read() != 0:\n",
    "            currentLed.write(0x0)\n",
    "            currentLed = led4\n",
    "            currentVal = 0x3\n",
    "        if base.buttons[1].read() != 0:\n",
    "            currentLed.write(0x0)\n",
    "            currentLed = led4\n",
    "            currentVal = 0x7\n",
    "        if base.buttons[2].read() != 0:\n",
    "            currentLed.write(0x0)\n",
    "            currentLed = led5\n",
    "            currentVal = 0x1\n",
    "        if base.buttons[3].read() != 0:\n",
    "            _loop.stop()\n",
    "            cond = False\n",
    "\n",
    "loop = asyncio.new_event_loop()\n",
    "loop.create_task(flash_leds())\n",
    "loop.create_task(get_btns(loop))\n",
    "loop.run_forever()\n",
    "loop.close()        \n",
    "led4.write(0x0)\n",
    "led5.write(0x0)\n",
    "print(\"Done.\")"
   ]
  },
  {
   "cell_type": "markdown",
   "metadata": {},
   "source": [
    "## Duty Cycle Testing"
   ]
  },
  {
   "cell_type": "code",
   "execution_count": 3,
   "metadata": {},
   "outputs": [
    {
     "name": "stdout",
     "output_type": "stream",
     "text": [
      "Done.\n"
     ]
    }
   ],
   "source": [
    "import asyncio\n",
    "import pynq.lib.rgbled as rgbled \n",
    "cond = True\n",
    "# testing loop logic with onboard leds\n",
    "led4 = rgbled.RGBLED(4)\n",
    "led5 = rgbled.RGBLED(5)\n",
    "currentLed = led4\n",
    "currentVal = 0x1\n",
    "\n",
    "blue = 1\n",
    "green = 2\n",
    "red = 3 \n",
    "\n",
    "period = 0.01\n",
    "duty_cycle = 0.05\n",
    "currentColor = red\n",
    "write_gpio(red,0)\n",
    "write_gpio(green,0)\n",
    "write_gpio(blue,0)\n",
    "\n",
    "async def flash_leds():\n",
    "    global cond, start, currentLed, currentVal, currentColor, period, duty_cycle\n",
    "    while True:\n",
    "        if cond:\n",
    "            currentLed.write(currentVal)\n",
    "            write_gpio(currentColor,1)\n",
    "            await asyncio.sleep(period*duty_cycle)\n",
    "            write_gpio(currentColor,0)\n",
    "            currentLed.write(0x0)\n",
    "            await asyncio.sleep(period-period*duty_cycle)\n",
    "        else:\n",
    "            currentLed.write(0x0)\n",
    "            currentColor.stop()\n",
    "\n",
    "async def get_btns(_loop):\n",
    "    global cond, start, currentLed, currentVal, currentColor, red, green, blue, duty_cycle\n",
    "    while cond:\n",
    "        await asyncio.sleep(0.1)\n",
    "        if base.buttons[0].read() != 0:\n",
    "            currentLed.write(0x0)\n",
    "            currentLed = led4\n",
    "            currentVal = 0x3\n",
    "            \n",
    "            write_gpio(currentColor,0)\n",
    "            currentColor = red\n",
    "            write_gpio(currentColor,1)\n",
    "        if base.buttons[1].read() != 0:\n",
    "            currentLed.write(0x0)\n",
    "            currentLed = led4\n",
    "            currentVal = 0x7\n",
    "            \n",
    "            write_gpio(currentColor,0)\n",
    "            currentColor = green\n",
    "            write_gpio(currentColor,1)\n",
    "        if base.buttons[2].read() != 0:\n",
    "            currentLed.write(0x0)\n",
    "            currentLed = led5\n",
    "            currentVal = 0x1\n",
    "            \n",
    "            write_gpio(currentColor,0)\n",
    "            currentColor = blue\n",
    "            write_gpio(currentColor,1)\n",
    "        if base.buttons[3].read() != 0:\n",
    "            if(duty_cycle < 1):\n",
    "                duty_cycle = duty_cycle + 0.05\n",
    "            else:\n",
    "                _loop.stop()\n",
    "                cond = False\n",
    "\n",
    "loop = asyncio.new_event_loop()\n",
    "loop.create_task(flash_leds())\n",
    "loop.create_task(get_btns(loop))\n",
    "loop.run_forever()\n",
    "loop.close()        \n",
    "led4.write(0x0)\n",
    "led5.write(0x0)\n",
    "write_gpio(green,0)\n",
    "write_gpio(red,0)\n",
    "write_gpio(blue,0)\n",
    "print(\"Done.\")"
   ]
  },
  {
   "cell_type": "code",
   "execution_count": null,
   "metadata": {},
   "outputs": [],
   "source": []
  }
 ],
 "metadata": {
  "kernelspec": {
   "display_name": "Python 3 (ipykernel)",
   "language": "python",
   "name": "python3"
  },
  "language_info": {
   "codemirror_mode": {
    "name": "ipython",
    "version": 3
   },
   "file_extension": ".py",
   "mimetype": "text/x-python",
   "name": "python",
   "nbconvert_exporter": "python",
   "pygments_lexer": "ipython3",
   "version": "3.10.4"
  }
 },
 "nbformat": 4,
 "nbformat_minor": 2
}
